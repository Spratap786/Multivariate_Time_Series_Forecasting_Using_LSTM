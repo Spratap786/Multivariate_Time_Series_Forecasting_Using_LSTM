{
 "cells": [
  {
   "cell_type": "markdown",
   "id": "362cf887",
   "metadata": {},
   "source": [
    "# Multivariate Time Series Forecasting Using LSTM:"
   ]
  },
  {
   "cell_type": "code",
   "execution_count": 38,
   "id": "1ecc2f13",
   "metadata": {},
   "outputs": [],
   "source": [
    "import numpy as np\n",
    "from keras.models import Sequential\n",
    "from keras.layers import LSTM\n",
    "from keras.layers import Dense,Dropout\n",
    "import pandas as pd\n",
    "from matplotlib import pyplot as plt\n",
    "from sklearn.preprocessing import StandardScaler\n",
    "import seaborn as sns\n",
    "from datetime import datetime"
   ]
  },
  {
   "cell_type": "code",
   "execution_count": 39,
   "id": "f7708688",
   "metadata": {},
   "outputs": [
    {
     "data": {
      "text/html": [
       "<div>\n",
       "<style scoped>\n",
       "    .dataframe tbody tr th:only-of-type {\n",
       "        vertical-align: middle;\n",
       "    }\n",
       "\n",
       "    .dataframe tbody tr th {\n",
       "        vertical-align: top;\n",
       "    }\n",
       "\n",
       "    .dataframe thead th {\n",
       "        text-align: right;\n",
       "    }\n",
       "</style>\n",
       "<table border=\"1\" class=\"dataframe\">\n",
       "  <thead>\n",
       "    <tr style=\"text-align: right;\">\n",
       "      <th></th>\n",
       "      <th>Date</th>\n",
       "      <th>Open</th>\n",
       "      <th>High</th>\n",
       "      <th>Low</th>\n",
       "      <th>Close</th>\n",
       "      <th>Adj Close</th>\n",
       "      <th>Volume</th>\n",
       "    </tr>\n",
       "  </thead>\n",
       "  <tbody>\n",
       "    <tr>\n",
       "      <th>0</th>\n",
       "      <td>1962-01-02</td>\n",
       "      <td>6.009615</td>\n",
       "      <td>6.109776</td>\n",
       "      <td>5.949519</td>\n",
       "      <td>5.989583</td>\n",
       "      <td>1.009674</td>\n",
       "      <td>269568</td>\n",
       "    </tr>\n",
       "    <tr>\n",
       "      <th>1</th>\n",
       "      <td>1962-01-03</td>\n",
       "      <td>5.959535</td>\n",
       "      <td>5.959535</td>\n",
       "      <td>5.909455</td>\n",
       "      <td>5.929487</td>\n",
       "      <td>0.999544</td>\n",
       "      <td>184704</td>\n",
       "    </tr>\n",
       "    <tr>\n",
       "      <th>2</th>\n",
       "      <td>1962-01-04</td>\n",
       "      <td>5.929487</td>\n",
       "      <td>5.979567</td>\n",
       "      <td>5.809295</td>\n",
       "      <td>5.859375</td>\n",
       "      <td>0.987725</td>\n",
       "      <td>229632</td>\n",
       "    </tr>\n",
       "    <tr>\n",
       "      <th>3</th>\n",
       "      <td>1962-01-05</td>\n",
       "      <td>5.859375</td>\n",
       "      <td>5.869391</td>\n",
       "      <td>5.608974</td>\n",
       "      <td>5.709135</td>\n",
       "      <td>0.962398</td>\n",
       "      <td>340704</td>\n",
       "    </tr>\n",
       "    <tr>\n",
       "      <th>4</th>\n",
       "      <td>1962-01-08</td>\n",
       "      <td>5.709135</td>\n",
       "      <td>5.709135</td>\n",
       "      <td>5.528846</td>\n",
       "      <td>5.699119</td>\n",
       "      <td>0.960710</td>\n",
       "      <td>386880</td>\n",
       "    </tr>\n",
       "  </tbody>\n",
       "</table>\n",
       "</div>"
      ],
      "text/plain": [
       "         Date      Open      High       Low     Close  Adj Close  Volume\n",
       "0  1962-01-02  6.009615  6.109776  5.949519  5.989583   1.009674  269568\n",
       "1  1962-01-03  5.959535  5.959535  5.909455  5.929487   0.999544  184704\n",
       "2  1962-01-04  5.929487  5.979567  5.809295  5.859375   0.987725  229632\n",
       "3  1962-01-05  5.859375  5.869391  5.608974  5.709135   0.962398  340704\n",
       "4  1962-01-08  5.709135  5.709135  5.528846  5.699119   0.960710  386880"
      ]
     },
     "execution_count": 39,
     "metadata": {},
     "output_type": "execute_result"
    }
   ],
   "source": [
    "df=pd.read_csv('GE.csv')\n",
    "df.head()"
   ]
  },
  {
   "cell_type": "code",
   "execution_count": 40,
   "id": "96802eed",
   "metadata": {},
   "outputs": [
    {
     "data": {
      "text/plain": [
       "(15253, 7)"
      ]
     },
     "execution_count": 40,
     "metadata": {},
     "output_type": "execute_result"
    }
   ],
   "source": [
    "df.shape"
   ]
  },
  {
   "cell_type": "code",
   "execution_count": 41,
   "id": "154fcd5b",
   "metadata": {},
   "outputs": [],
   "source": [
    "#Separate dates for future ploting\n",
    "train_dates=pd.to_datetime(df['Date'])"
   ]
  },
  {
   "cell_type": "code",
   "execution_count": 42,
   "id": "2a4893ab",
   "metadata": {},
   "outputs": [
    {
     "data": {
      "image/png": "[encoded data removed]",
      "text/plain": [
       "<Figure size 432x288 with 1 Axes>"
      ]
     },
     "metadata": {
      "needs_background": "light"
     },
     "output_type": "display_data"
    }
   ],
   "source": [
    "# variables for training\n",
    "cols=list(df)[1:6]\n",
    "\n",
    "df_for_training=df[cols].astype(float)\n",
    "df_for_plot=df_for_training.tail(5000)\n",
    "\n",
    "df_for_plot.plot.line();"
   ]
  },
  {
   "cell_type": "code",
   "execution_count": 43,
   "id": "7ab437ee",
   "metadata": {},
   "outputs": [],
   "source": [
    "#Normalize the dataset\n",
    "scaler=StandardScaler()\n",
    "scaler=scaler.fit(df_for_training)\n",
    "df_for_training_scaled=scaler.transform(df_for_training)"
   ]
  },
  {
   "cell_type": "code",
   "execution_count": 44,
   "id": "9df38422",
   "metadata": {},
   "outputs": [
    {
     "name": "stdout",
     "output_type": "stream",
     "text": [
      "trainX shape == (15239, 14, 5).\n",
      "trainY shape == (15239, 1).\n"
     ]
    }
   ],
   "source": [
    "# Reshaping the dataset for training purpose:\n",
    "trainX=[]\n",
    "trainY=[]\n",
    "\n",
    "n_future=1 #No of days we want to predict in future\n",
    "n_past=14 #No of past days we want to predict in future\n",
    "\n",
    "for i in range(n_past,len(df_for_training_scaled)-n_future+1):\n",
    "    trainX.append(df_for_training_scaled[i-n_past:i,0:df_for_training.shape[1]])\n",
    "    trainY.append(df_for_training_scaled[i+n_future-1:i+n_future,0])\n",
    "    \n",
    "trainX,trainY=np.array(trainX),np.array(trainY)\n",
    "\n",
    "print('trainX shape == {}.'.format(trainX.shape))\n",
    "print('trainY shape == {}.'.format(trainY.shape))"
   ]
  },
  {
   "cell_type": "code",
   "execution_count": 45,
   "id": "60289e59",
   "metadata": {},
   "outputs": [
    {
     "name": "stdout",
     "output_type": "stream",
     "text": [
      "Model: \"sequential_5\"\n",
      "_________________________________________________________________\n",
      " Layer (type)                Output Shape              Param #   \n",
      "=================================================================\n",
      " lstm_6 (LSTM)               (None, 14, 64)            17920     \n",
      "                                                                 \n",
      " lstm_7 (LSTM)               (None, 32)                12416     \n",
      "                                                                 \n",
      " dropout_2 (Dropout)         (None, 32)                0         \n",
      "                                                                 \n",
      " dense_2 (Dense)             (None, 1)                 33        \n",
      "                                                                 \n",
      "=================================================================\n",
      "Total params: 30,369\n",
      "Trainable params: 30,369\n",
      "Non-trainable params: 0\n",
      "_________________________________________________________________\n"
     ]
    }
   ],
   "source": [
    "model = Sequential()\n",
    "model.add(LSTM(64, activation='relu', input_shape=(trainX.shape[1], trainX.shape[2]), return_sequences=True))\n",
    "model.add(LSTM(32, activation='relu', return_sequences=False))\n",
    "model.add(Dropout(0.2))\n",
    "model.add(Dense(trainY.shape[1]))\n",
    "\n",
    "model.compile(optimizer='adam', loss='mse')\n",
    "model.summary()"
   ]
  },
  {
   "cell_type": "code",
   "execution_count": 46,
   "id": "6c102a18",
   "metadata": {},
   "outputs": [
    {
     "name": "stdout",
     "output_type": "stream",
     "text": [
      "Epoch 1/50\n",
      "858/858 [==============================] - 39s 36ms/step - loss: 0.0506 - val_loss: 0.0046\n",
      "Epoch 2/50\n",
      "858/858 [==============================] - 31s 36ms/step - loss: 0.0331 - val_loss: 0.0028\n",
      "Epoch 3/50\n",
      "858/858 [==============================] - 32s 37ms/step - loss: 0.0334 - val_loss: 0.0033\n",
      "Epoch 4/50\n",
      "858/858 [==============================] - 30s 35ms/step - loss: 0.0314 - val_loss: 0.0031\n",
      "Epoch 5/50\n",
      "858/858 [==============================] - 33s 39ms/step - loss: 0.0310 - val_loss: 0.0025\n",
      "Epoch 6/50\n",
      "858/858 [==============================] - 30s 35ms/step - loss: 0.0320 - val_loss: 0.0024\n",
      "Epoch 7/50\n",
      "858/858 [==============================] - 30s 35ms/step - loss: 0.0312 - val_loss: 0.0016\n",
      "Epoch 8/50\n",
      "858/858 [==============================] - 31s 36ms/step - loss: 0.0322 - val_loss: 0.0018\n",
      "Epoch 9/50\n",
      "858/858 [==============================] - 32s 37ms/step - loss: 0.0291 - val_loss: 0.0019\n",
      "Epoch 10/50\n",
      "858/858 [==============================] - 36s 42ms/step - loss: 0.0290 - val_loss: 0.0019\n",
      "Epoch 11/50\n",
      "858/858 [==============================] - 32s 37ms/step - loss: 0.0292 - val_loss: 0.0013\n",
      "Epoch 12/50\n",
      "858/858 [==============================] - 30s 35ms/step - loss: 0.0286 - val_loss: 8.5591e-04\n",
      "Epoch 13/50\n",
      "858/858 [==============================] - 29s 34ms/step - loss: 0.0284 - val_loss: 0.0010\n",
      "Epoch 14/50\n",
      "858/858 [==============================] - 31s 36ms/step - loss: 0.0291 - val_loss: 0.0014\n",
      "Epoch 15/50\n",
      "858/858 [==============================] - 31s 36ms/step - loss: 0.0281 - val_loss: 0.0015\n",
      "Epoch 16/50\n",
      "858/858 [==============================] - 29s 33ms/step - loss: 0.0263 - val_loss: 0.0026\n",
      "Epoch 17/50\n",
      "858/858 [==============================] - 31s 36ms/step - loss: 0.0253 - val_loss: 0.0026\n",
      "Epoch 18/50\n",
      "858/858 [==============================] - 32s 37ms/step - loss: 0.0258 - val_loss: 6.6719e-04\n",
      "Epoch 19/50\n",
      "858/858 [==============================] - 30s 35ms/step - loss: 0.0255 - val_loss: 0.0018\n",
      "Epoch 20/50\n",
      "858/858 [==============================] - 32s 38ms/step - loss: 0.0254 - val_loss: 0.0032\n",
      "Epoch 21/50\n",
      "858/858 [==============================] - 32s 37ms/step - loss: 0.0255 - val_loss: 6.3484e-04\n",
      "Epoch 22/50\n",
      "858/858 [==============================] - 32s 37ms/step - loss: 0.0257 - val_loss: 0.0012\n",
      "Epoch 23/50\n",
      "858/858 [==============================] - 32s 37ms/step - loss: 0.0249 - val_loss: 0.0014\n",
      "Epoch 24/50\n",
      "858/858 [==============================] - 33s 39ms/step - loss: 0.0270 - val_loss: 6.8447e-04\n",
      "Epoch 25/50\n",
      "858/858 [==============================] - 32s 37ms/step - loss: 0.0267 - val_loss: 0.0013\n",
      "Epoch 26/50\n",
      "858/858 [==============================] - 32s 37ms/step - loss: 0.0260 - val_loss: 6.0073e-04\n",
      "Epoch 27/50\n",
      "858/858 [==============================] - 32s 38ms/step - loss: 0.0255 - val_loss: 7.2372e-04\n",
      "Epoch 28/50\n",
      "858/858 [==============================] - 34s 39ms/step - loss: 0.0256 - val_loss: 0.0065\n",
      "Epoch 29/50\n",
      "858/858 [==============================] - 33s 38ms/step - loss: 0.0251 - val_loss: 5.2603e-04\n",
      "Epoch 30/50\n",
      "858/858 [==============================] - 33s 38ms/step - loss: 0.0247 - val_loss: 5.9206e-04\n",
      "Epoch 31/50\n",
      "858/858 [==============================] - 33s 38ms/step - loss: 0.0255 - val_loss: 9.1114e-04\n",
      "Epoch 32/50\n",
      "858/858 [==============================] - 32s 37ms/step - loss: 0.0255 - val_loss: 5.0068e-04\n",
      "Epoch 33/50\n",
      "858/858 [==============================] - 31s 36ms/step - loss: 0.0239 - val_loss: 8.4833e-04\n",
      "Epoch 34/50\n",
      "858/858 [==============================] - 31s 36ms/step - loss: 0.0255 - val_loss: 5.2645e-04\n",
      "Epoch 35/50\n",
      "858/858 [==============================] - 30s 35ms/step - loss: 0.0248 - val_loss: 7.0859e-04\n",
      "Epoch 36/50\n",
      "858/858 [==============================] - 27s 32ms/step - loss: 0.0253 - val_loss: 9.5028e-04\n",
      "Epoch 37/50\n",
      "858/858 [==============================] - 27s 31ms/step - loss: 0.0259 - val_loss: 5.4365e-04\n",
      "Epoch 38/50\n",
      "858/858 [==============================] - 26s 31ms/step - loss: 0.0254 - val_loss: 0.0011\n",
      "Epoch 39/50\n",
      "858/858 [==============================] - 27s 31ms/step - loss: 0.0246 - val_loss: 0.0021\n",
      "Epoch 40/50\n",
      "858/858 [==============================] - 26s 31ms/step - loss: 0.0250 - val_loss: 5.8412e-04\n",
      "Epoch 41/50\n",
      "858/858 [==============================] - 26s 31ms/step - loss: 0.0256 - val_loss: 0.0018\n",
      "Epoch 42/50\n",
      "858/858 [==============================] - 27s 31ms/step - loss: 0.0262 - val_loss: 3.7862e-04\n",
      "Epoch 43/50\n",
      "858/858 [==============================] - 27s 31ms/step - loss: 0.0260 - val_loss: 0.0011\n",
      "Epoch 44/50\n",
      "858/858 [==============================] - 28s 32ms/step - loss: 0.0250 - val_loss: 9.6854e-04\n",
      "Epoch 45/50\n",
      "858/858 [==============================] - 27s 32ms/step - loss: 0.0255 - val_loss: 0.0011\n",
      "Epoch 46/50\n",
      "858/858 [==============================] - 27s 32ms/step - loss: 0.0253 - val_loss: 7.0849e-04\n",
      "Epoch 47/50\n",
      "858/858 [==============================] - 27s 31ms/step - loss: 0.0258 - val_loss: 4.1709e-04\n",
      "Epoch 48/50\n",
      "858/858 [==============================] - 27s 31ms/step - loss: 0.0246 - val_loss: 0.0014\n",
      "Epoch 49/50\n",
      "858/858 [==============================] - 29s 34ms/step - loss: 0.0251 - val_loss: 0.0013\n",
      "Epoch 50/50\n",
      "858/858 [==============================] - 27s 31ms/step - loss: 0.0246 - val_loss: 3.6886e-04\n"
     ]
    }
   ],
   "source": [
    "# fit the model\n",
    "history = model.fit(trainX, trainY, epochs=50, batch_size=16, validation_split=0.1, verbose=1)"
   ]
  },
  {
   "cell_type": "code",
   "execution_count": 47,
   "id": "834247ea",
   "metadata": {},
   "outputs": [
    {
     "data": {
      "image/png": "[encoded data removed]",
      "text/plain": [
       "<Figure size 432x288 with 1 Axes>"
      ]
     },
     "metadata": {
      "needs_background": "light"
     },
     "output_type": "display_data"
    }
   ],
   "source": [
    "plt.plot(history.history['loss'], label='Training loss')\n",
    "plt.plot(history.history['val_loss'], label='Validation loss')\n",
    "plt.legend();"
   ]
  },
  {
   "cell_type": "code",
   "execution_count": 48,
   "id": "d40037c7",
   "metadata": {},
   "outputs": [
    {
     "name": "stdout",
     "output_type": "stream",
     "text": [
      "[Timestamp('2022-07-14 00:00:00', freq='C'), Timestamp('2022-07-15 00:00:00', freq='C'), Timestamp('2022-07-18 00:00:00', freq='C'), Timestamp('2022-07-19 00:00:00', freq='C'), Timestamp('2022-07-20 00:00:00', freq='C'), Timestamp('2022-07-21 00:00:00', freq='C'), Timestamp('2022-07-22 00:00:00', freq='C'), Timestamp('2022-07-25 00:00:00', freq='C'), Timestamp('2022-07-26 00:00:00', freq='C'), Timestamp('2022-07-27 00:00:00', freq='C'), Timestamp('2022-07-28 00:00:00', freq='C'), Timestamp('2022-07-29 00:00:00', freq='C'), Timestamp('2022-08-01 00:00:00', freq='C'), Timestamp('2022-08-02 00:00:00', freq='C'), Timestamp('2022-08-03 00:00:00', freq='C')]\n"
     ]
    }
   ],
   "source": [
    "#Predicting...\n",
    "#Libraries that will help us extract only business days in the US.\n",
    "#Otherwise our dates would be wrong when we look back (or forward).  \n",
    "from pandas.tseries.holiday import USFederalHolidayCalendar\n",
    "from pandas.tseries.offsets import CustomBusinessDay\n",
    "us_bd = CustomBusinessDay(calendar=USFederalHolidayCalendar())\n",
    "#Remember that we can only predict one day in future as our model needs 5 variables\n",
    "#as inputs for prediction. We only have all 5 variables until the last day in our dataset.\n",
    "n_past = 16\n",
    "n_days_for_prediction=15  #let us predict past 15 days\n",
    "predict_period_dates = pd.date_range(list(train_dates)[-n_past], periods=n_days_for_prediction, freq=us_bd).tolist()\n",
    "print(predict_period_dates)"
   ]
  },
  {
   "cell_type": "code",
   "execution_count": 49,
   "id": "f54d2130",
   "metadata": {},
   "outputs": [
    {
     "name": "stdout",
     "output_type": "stream",
     "text": [
      "1/1 [==============================] - 1s 968ms/step\n"
     ]
    }
   ],
   "source": [
    "#Make prediction\n",
    "prediction = model.predict(trainX[-n_days_for_prediction:]) #shape = (n, 1) where n is the n_days_for_prediction\n",
    "\n",
    "#Perform inverse transformation to rescale back to original range\n",
    "#Since we used 5 variables for transform, the inverse expects same dimensions\n",
    "#Therefore, let us copy our values 5 times and discard them after inverse transform\n",
    "prediction_copies = np.repeat(prediction, df_for_training.shape[1], axis=-1)\n",
    "y_pred_future = scaler.inverse_transform(prediction_copies)[:,0]"
   ]
  },
  {
   "cell_type": "code",
   "execution_count": 50,
   "id": "cc122d79",
   "metadata": {},
   "outputs": [
    {
     "name": "stderr",
     "output_type": "stream",
     "text": [
      "C:\\Users\\Hp\\AppData\\Local\\Temp/ipykernel_5712/3948340373.py:11: SettingWithCopyWarning: \n",
      "A value is trying to be set on a copy of a slice from a DataFrame.\n",
      "Try using .loc[row_indexer,col_indexer] = value instead\n",
      "\n",
      "See the caveats in the documentation: https://pandas.pydata.org/pandas-docs/stable/user_guide/indexing.html#returning-a-view-versus-a-copy\n",
      "  original['Date']=pd.to_datetime(original['Date'])\n",
      "C:\\Users\\Hp\\anaconda3\\lib\\site-packages\\seaborn\\_decorators.py:36: FutureWarning: Pass the following variables as keyword args: x, y. From version 0.12, the only valid positional argument will be `data`, and passing other arguments without an explicit keyword will result in an error or misinterpretation.\n",
      "  warnings.warn(\n",
      "C:\\Users\\Hp\\anaconda3\\lib\\site-packages\\seaborn\\_decorators.py:36: FutureWarning: Pass the following variables as keyword args: x, y. From version 0.12, the only valid positional argument will be `data`, and passing other arguments without an explicit keyword will result in an error or misinterpretation.\n",
      "  warnings.warn(\n"
     ]
    },
    {
     "data": {
      "image/png": "[encoded data removed]",
      "text/plain": [
       "<Figure size 432x288 with 1 Axes>"
      ]
     },
     "metadata": {
      "needs_background": "light"
     },
     "output_type": "display_data"
    }
   ],
   "source": [
    "# Convert timestamp to date\n",
    "forecast_dates = []\n",
    "for time_i in predict_period_dates:\n",
    "    forecast_dates.append(time_i.date())\n",
    "    \n",
    "df_forecast = pd.DataFrame({'Date':np.array(forecast_dates), 'Open':y_pred_future})\n",
    "df_forecast['Date']=pd.to_datetime(df_forecast['Date'])\n",
    "\n",
    "\n",
    "original = df[['Date', 'Open']]\n",
    "original['Date']=pd.to_datetime(original['Date'])\n",
    "original = original.loc[original['Date'] >= '2020-5-1']\n",
    "\n",
    "sns.lineplot(original['Date'], original['Open'])\n",
    "sns.lineplot(df_forecast['Date'], df_forecast['Open']);"
   ]
  },
  {
   "cell_type": "code",
   "execution_count": null,
   "id": "3d43eb0a",
   "metadata": {},
   "outputs": [],
   "source": []
  }
 ],
 "metadata": {
  "kernelspec": {
   "display_name": "Python 3 (ipykernel)",
   "language": "python",
   "name": "python3"
  },
  "language_info": {
   "codemirror_mode": {
    "name": "ipython",
    "version": 3
   },
   "file_extension": ".py",
   "mimetype": "text/x-python",
   "name": "python",
   "nbconvert_exporter": "python",
   "pygments_lexer": "ipython3",
   "version": "3.9.7"
  }
 },
 "nbformat": 4,
 "nbformat_minor": 5
}
